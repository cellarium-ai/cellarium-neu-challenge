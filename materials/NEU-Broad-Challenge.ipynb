{
 "cells": [
  {
   "cell_type": "markdown",
   "id": "82f01983-3ae5-477c-a6d7-9120237be499",
   "metadata": {},
   "source": [
    "# Broad NEU Challenge Helper Notebook"
   ]
  },
  {
   "cell_type": "markdown",
   "id": "e234d700-3300-47ce-91cd-74e76857622a",
   "metadata": {},
   "source": [
    "## Installing required libraries"
   ]
  },
  {
   "cell_type": "code",
   "execution_count": 1,
   "id": "3c63584e-b1b7-4c3d-834e-f9e6e1e1cc45",
   "metadata": {
    "tags": []
   },
   "outputs": [
    {
     "name": "stdout",
     "output_type": "stream",
     "text": [
      "Requirement already satisfied: anndata in /opt/anaconda3/lib/python3.11/site-packages (0.10.7)\n",
      "Requirement already satisfied: array-api-compat!=1.5,>1.4 in /opt/anaconda3/lib/python3.11/site-packages (from anndata) (1.6)\n",
      "Requirement already satisfied: h5py>=3.1 in /opt/anaconda3/lib/python3.11/site-packages (from anndata) (3.9.0)\n",
      "Requirement already satisfied: natsort in /opt/anaconda3/lib/python3.11/site-packages (from anndata) (8.4.0)\n",
      "Requirement already satisfied: numpy>=1.23 in /opt/anaconda3/lib/python3.11/site-packages (from anndata) (1.26.4)\n",
      "Requirement already satisfied: packaging>=20.0 in /opt/anaconda3/lib/python3.11/site-packages (from anndata) (23.1)\n",
      "Requirement already satisfied: pandas!=2.1.0rc0,!=2.1.2,>=1.4 in /opt/anaconda3/lib/python3.11/site-packages (from anndata) (2.1.4)\n",
      "Requirement already satisfied: scipy>1.8 in /opt/anaconda3/lib/python3.11/site-packages (from anndata) (1.11.4)\n",
      "Requirement already satisfied: python-dateutil>=2.8.2 in /opt/anaconda3/lib/python3.11/site-packages (from pandas!=2.1.0rc0,!=2.1.2,>=1.4->anndata) (2.8.2)\n",
      "Requirement already satisfied: pytz>=2020.1 in /opt/anaconda3/lib/python3.11/site-packages (from pandas!=2.1.0rc0,!=2.1.2,>=1.4->anndata) (2023.3.post1)\n",
      "Requirement already satisfied: tzdata>=2022.1 in /opt/anaconda3/lib/python3.11/site-packages (from pandas!=2.1.0rc0,!=2.1.2,>=1.4->anndata) (2023.3)\n",
      "Requirement already satisfied: six>=1.5 in /opt/anaconda3/lib/python3.11/site-packages (from python-dateutil>=2.8.2->pandas!=2.1.0rc0,!=2.1.2,>=1.4->anndata) (1.16.0)\n"
     ]
    }
   ],
   "source": [
    "!pip install anndata"
   ]
  },
  {
   "cell_type": "markdown",
   "id": "8b4099a6-aac7-4105-b094-92fa2f699009",
   "metadata": {},
   "source": [
    "## Data overview"
   ]
  },
  {
   "cell_type": "markdown",
   "id": "fd4a49ab-4804-41be-8380-d8866a6dd697",
   "metadata": {},
   "source": [
    "Usually we use anndata to operate with our data which is stored in `h5ad` format. You can find more about anndata and the format it stores the data [here](https://anndata.readthedocs.io/en/latest/)"
   ]
  },
  {
   "cell_type": "code",
   "execution_count": 2,
   "id": "dabcbc0c-6309-4eee-bee2-9732d4279328",
   "metadata": {
    "tags": []
   },
   "outputs": [
    {
     "name": "stdout",
     "output_type": "stream",
     "text": [
      "--2024-05-14 20:45:15--  https://storage.googleapis.com/dsp-cellarium-cas-public/neu-broad-challenge/pbmc_10k_neu_challenge_example.h5ad\n",
      "Resolving storage.googleapis.com (storage.googleapis.com)... 142.250.180.219, 142.250.201.219, 142.251.208.123, ...\n",
      "Connecting to storage.googleapis.com (storage.googleapis.com)|142.250.180.219|:443... connected.\n",
      "HTTP request sent, awaiting response... 200 OK\n",
      "Length: 189524066 (181M) [application/octet-stream]\n",
      "Saving to: ‘pbmc_10k_neu_challenge_example.h5ad’\n",
      "\n",
      "pbmc_10k_neu_challe 100%[===================>] 180.74M  8.16MB/s    in 28s     \n",
      "\n",
      "2024-05-14 20:45:44 (6.49 MB/s) - ‘pbmc_10k_neu_challenge_example.h5ad’ saved [189524066/189524066]\n",
      "\n"
     ]
    }
   ],
   "source": [
    "!wget https://storage.googleapis.com/dsp-cellarium-cas-public/neu-broad-challenge/pbmc_10k_neu_challenge_example.h5ad"
   ]
  },
  {
   "cell_type": "code",
   "execution_count": 3,
   "id": "22fecc62",
   "metadata": {},
   "outputs": [],
   "source": [
    "import anndata"
   ]
  },
  {
   "cell_type": "code",
   "execution_count": 4,
   "id": "56b75e3a",
   "metadata": {},
   "outputs": [],
   "source": [
    "adata = anndata.read_h5ad(\"pbmc_10k_neu_challenge_example.h5ad\")"
   ]
  },
  {
   "cell_type": "markdown",
   "id": "5ce26ba4-fb36-433d-851d-f14c2d95910e",
   "metadata": {},
   "source": [
    "General information about the data, here you can see all the metadata variables and data dimensionality. You don't need those metadata variables, this is just an example of the dataset that usually goes through our pipeline tool"
   ]
  },
  {
   "cell_type": "code",
   "execution_count": 5,
   "id": "3dfa4fb5-8df4-4f0a-9401-f4b9615bc85d",
   "metadata": {
    "tags": []
   },
   "outputs": [
    {
     "data": {
      "text/plain": [
       "AnnData object with n_obs × n_vars = 10246 × 36601\n",
       "    obs: 'total_mrna_umis', 'n_genes', 'n_genes_by_counts', 'total_counts', 'total_counts_mt', 'pct_counts_mt'\n",
       "    var: 'feature_name'\n",
       "    uns: 'hvg', 'log1p', 'neighbors', 'pca', 'umap'\n",
       "    obsm: 'X_pca', 'X_umap'\n",
       "    obsp: 'connectivities', 'distances'"
      ]
     },
     "execution_count": 5,
     "metadata": {},
     "output_type": "execute_result"
    }
   ],
   "source": [
    "adata"
   ]
  },
  {
   "cell_type": "markdown",
   "id": "d11cc7c0-f6e1-4820-ba5c-80e3524a2c90",
   "metadata": {},
   "source": [
    "Representation of the sparse count matrix. (Output of how the slice of raw count matrix looks like)"
   ]
  },
  {
   "cell_type": "code",
   "execution_count": 9,
   "id": "a5e053f8-e209-4641-924f-3feca02a929d",
   "metadata": {
    "tags": []
   },
   "outputs": [
    {
     "data": {
      "text/plain": [
       "matrix([[0., 0., 1., 0., 0., 0., 0., 0., 0., 0.],\n",
       "        [0., 0., 2., 5., 0., 0., 0., 0., 0., 0.],\n",
       "        [0., 0., 1., 0., 0., 0., 0., 0., 0., 0.],\n",
       "        [0., 0., 0., 0., 0., 0., 0., 0., 0., 0.],\n",
       "        [0., 0., 2., 0., 0., 0., 0., 0., 0., 0.]], dtype=float32)"
      ]
     },
     "execution_count": 9,
     "metadata": {},
     "output_type": "execute_result"
    }
   ],
   "source": [
    "adata.X[:5, 1365:1375].todense()"
   ]
  },
  {
   "cell_type": "markdown",
   "id": "947fc6ab-ac37-4185-9ded-ded1ec4a11b7",
   "metadata": {},
   "source": [
    "Feel free to explore the data more if needed..."
   ]
  },
  {
   "cell_type": "code",
   "execution_count": null,
   "id": "495ad646",
   "metadata": {},
   "outputs": [],
   "source": []
  },
  {
   "cell_type": "code",
   "execution_count": null,
   "id": "66b9bbdb",
   "metadata": {},
   "outputs": [],
   "source": []
  },
  {
   "cell_type": "markdown",
   "id": "34245ead-f72d-4b59-862c-88dfbdffc9ea",
   "metadata": {},
   "source": [
    "## Embeddings\n",
    "\n",
    "This step is totally unnecessary for the challenge, however for a better understanding, this is what kind of the output, the embedding model (in our case PCA) returns (this value is just a dummy value based on random numbers, but the output looks exactly like this)."
   ]
  },
  {
   "cell_type": "code",
   "execution_count": 10,
   "id": "b674ddbc-de3b-40df-a1f3-c9be3877b9b9",
   "metadata": {},
   "outputs": [],
   "source": [
    "import numpy as np\n",
    "\n",
    "\n",
    "EMBEDDING_DIMENSION = 512\n",
    "\n",
    "embeddings = np.random.random((adata.shape[0], EMBEDDING_DIMENSION))"
   ]
  },
  {
   "cell_type": "code",
   "execution_count": 11,
   "id": "b02d151f",
   "metadata": {},
   "outputs": [
    {
     "data": {
      "text/plain": [
       "array([[0.61804098, 0.4374286 , 0.96260307, ..., 0.1848124 , 0.05337794,\n",
       "        0.82654222],\n",
       "       [0.75054247, 0.32108817, 0.81191402, ..., 0.34008085, 0.00360174,\n",
       "        0.26584503],\n",
       "       [0.70063089, 0.15133945, 0.88460563, ..., 0.22607995, 0.68806827,\n",
       "        0.24766543],\n",
       "       [0.40241017, 0.75182927, 0.39930617, ..., 0.67262924, 0.86085721,\n",
       "        0.95091779],\n",
       "       [0.67152385, 0.93624569, 0.34892989, ..., 0.30340524, 0.93085506,\n",
       "        0.27393163]])"
      ]
     },
     "execution_count": 11,
     "metadata": {},
     "output_type": "execute_result"
    }
   ],
   "source": [
    "embeddings[:5]"
   ]
  },
  {
   "cell_type": "markdown",
   "id": "5ca5946c",
   "metadata": {},
   "source": [
    "## Diving in details with the challenge problem"
   ]
  },
  {
   "cell_type": "code",
   "execution_count": 12,
   "id": "28529ffe",
   "metadata": {},
   "outputs": [
    {
     "name": "stdout",
     "output_type": "stream",
     "text": [
      "--2024-05-14 20:47:19--  https://storage.googleapis.com/dsp-cellarium-cas-public/neu-broad-challenge/neu_broad_challenge_inputs.pkl\n",
      "Resolving storage.googleapis.com (storage.googleapis.com)... 172.217.20.27, 142.250.180.251, 142.251.39.91, ...\n",
      "Connecting to storage.googleapis.com (storage.googleapis.com)|172.217.20.27|:443... connected.\n",
      "HTTP request sent, awaiting response... 200 OK\n",
      "Length: 50054196 (48M) [application/octet-stream]\n",
      "Saving to: ‘neu_broad_challenge_inputs.pkl’\n",
      "\n",
      "neu_broad_challenge 100%[===================>]  47.74M  6.36MB/s    in 8.2s    \n",
      "\n",
      "2024-05-14 20:47:28 (5.81 MB/s) - ‘neu_broad_challenge_inputs.pkl’ saved [50054196/50054196]\n",
      "\n"
     ]
    }
   ],
   "source": [
    "!wget https://storage.googleapis.com/dsp-cellarium-cas-public/neu-broad-challenge/neu_broad_challenge_inputs.pkl"
   ]
  },
  {
   "cell_type": "code",
   "execution_count": 13,
   "id": "475be603-05d4-4cc2-8419-af788aa505d0",
   "metadata": {
    "tags": []
   },
   "outputs": [],
   "source": [
    "import pickle\n",
    "\n",
    "\n",
    "with open(\"./neu_broad_challenge_inputs.pkl\", \"rb\") as f:\n",
    "    data = pickle.loads(f.read())"
   ]
  },
  {
   "cell_type": "code",
   "execution_count": 14,
   "id": "29549b4c-428c-4426-bcf8-cd79d8224f44",
   "metadata": {
    "tags": []
   },
   "outputs": [
    {
     "data": {
      "text/plain": [
       "dict_keys(['cas_search_output', 'cas_search_all_neighbors_info'])"
      ]
     },
     "execution_count": 14,
     "metadata": {},
     "output_type": "execute_result"
    }
   ],
   "source": [
    "data.keys()"
   ]
  },
  {
   "cell_type": "markdown",
   "id": "c3b0bb6d-9fd9-4057-a88b-e44d75a74489",
   "metadata": {},
   "source": [
    "## Nearest Neighbor Search Engine\n",
    "Here's how the output of nearest neighbor search engine looks like. It represents the query_cell_id (the id that user had for each of the input cell) and all neighbors with the distances from the Nearest Neighbor Search Engine."
   ]
  },
  {
   "cell_type": "code",
   "execution_count": 16,
   "id": "02bed153-4af9-41ed-88ed-6c633f376f42",
   "metadata": {
    "tags": []
   },
   "outputs": [
    {
     "data": {
      "text/plain": [
       "{'query_cell_id': 'AAACCCACAGAGTTGG-1',\n",
       " 'neighbors': [{'cas_cell_index': 1524013579, 'distance': 0.9772824645042419},\n",
       "  {'cas_cell_index': 1524055387, 'distance': 0.9762778282165527},\n",
       "  {'cas_cell_index': 330041453, 'distance': 0.975730299949646},\n",
       "  {'cas_cell_index': 330045566, 'distance': 0.9749655723571777},\n",
       "  {'cas_cell_index': 330044658, 'distance': 0.9747146368026733},\n",
       "  {'cas_cell_index': 330040314, 'distance': 0.9743883013725281},\n",
       "  {'cas_cell_index': 1524037623, 'distance': 0.9731814861297607},\n",
       "  {'cas_cell_index': 1524064517, 'distance': 0.9731571078300476},\n",
       "  {'cas_cell_index': 1524064385, 'distance': 0.9731186628341675},\n",
       "  {'cas_cell_index': 330047686, 'distance': 0.9730817079544067},\n",
       "  {'cas_cell_index': 330039427, 'distance': 0.9729874730110168},\n",
       "  {'cas_cell_index': 1524024579, 'distance': 0.9728894233703613},\n",
       "  {'cas_cell_index': 1524002970, 'distance': 0.9724669456481934},\n",
       "  {'cas_cell_index': 1524001588, 'distance': 0.9724181890487671},\n",
       "  {'cas_cell_index': 1524011938, 'distance': 0.9723758697509766},\n",
       "  {'cas_cell_index': 330042641, 'distance': 0.9718446135520935},\n",
       "  {'cas_cell_index': 330040045, 'distance': 0.9714692831039429},\n",
       "  {'cas_cell_index': 330043623, 'distance': 0.9714187979698181},\n",
       "  {'cas_cell_index': 330040294, 'distance': 0.9713906645774841},\n",
       "  {'cas_cell_index': 1524043154, 'distance': 0.9711215496063232},\n",
       "  {'cas_cell_index': 1524032043, 'distance': 0.9710630774497986},\n",
       "  {'cas_cell_index': 330039309, 'distance': 0.9710462093353271},\n",
       "  {'cas_cell_index': 1524048684, 'distance': 0.9709385633468628},\n",
       "  {'cas_cell_index': 1524062045, 'distance': 0.9709157943725586},\n",
       "  {'cas_cell_index': 1524066868, 'distance': 0.9707777500152588},\n",
       "  {'cas_cell_index': 1524045346, 'distance': 0.9707149863243103},\n",
       "  {'cas_cell_index': 1524066791, 'distance': 0.970695972442627},\n",
       "  {'cas_cell_index': 330049019, 'distance': 0.9706373810768127},\n",
       "  {'cas_cell_index': 330041459, 'distance': 0.9705281853675842},\n",
       "  {'cas_cell_index': 1524053675, 'distance': 0.970385730266571},\n",
       "  {'cas_cell_index': 1524011415, 'distance': 0.9703538417816162},\n",
       "  {'cas_cell_index': 1524054452, 'distance': 0.9703254699707031},\n",
       "  {'cas_cell_index': 1524053695, 'distance': 0.9702890515327454},\n",
       "  {'cas_cell_index': 1524001292, 'distance': 0.9701985716819763},\n",
       "  {'cas_cell_index': 1524000478, 'distance': 0.9701701402664185},\n",
       "  {'cas_cell_index': 1524064069, 'distance': 0.9701396226882935},\n",
       "  {'cas_cell_index': 330038888, 'distance': 0.9700964689254761},\n",
       "  {'cas_cell_index': 330046164, 'distance': 0.9700000286102295},\n",
       "  {'cas_cell_index': 330040961, 'distance': 0.969933807849884},\n",
       "  {'cas_cell_index': 1524002278, 'distance': 0.9698428511619568},\n",
       "  {'cas_cell_index': 1524030104, 'distance': 0.9698286652565002},\n",
       "  {'cas_cell_index': 1524058670, 'distance': 0.9696537256240845},\n",
       "  {'cas_cell_index': 1524060121, 'distance': 0.9694974422454834},\n",
       "  {'cas_cell_index': 1524060137, 'distance': 0.9694243669509888},\n",
       "  {'cas_cell_index': 1524007196, 'distance': 0.969419002532959},\n",
       "  {'cas_cell_index': 1524001272, 'distance': 0.9693729877471924},\n",
       "  {'cas_cell_index': 1524004216, 'distance': 0.9693396091461182},\n",
       "  {'cas_cell_index': 1524062131, 'distance': 0.9693319797515869},\n",
       "  {'cas_cell_index': 330046611, 'distance': 0.9692481756210327},\n",
       "  {'cas_cell_index': 330048709, 'distance': 0.969101071357727},\n",
       "  {'cas_cell_index': 1524025176, 'distance': 0.9686707258224487},\n",
       "  {'cas_cell_index': 1524015281, 'distance': 0.9686350226402283},\n",
       "  {'cas_cell_index': 1524002435, 'distance': 0.968620240688324},\n",
       "  {'cas_cell_index': 1524004179, 'distance': 0.9685169458389282},\n",
       "  {'cas_cell_index': 330048814, 'distance': 0.9685165882110596},\n",
       "  {'cas_cell_index': 1524043731, 'distance': 0.9683679342269897},\n",
       "  {'cas_cell_index': 780040382, 'distance': 0.9682825207710266},\n",
       "  {'cas_cell_index': 1524033412, 'distance': 0.9682666063308716},\n",
       "  {'cas_cell_index': 1524060125, 'distance': 0.968228816986084},\n",
       "  {'cas_cell_index': 780021576, 'distance': 0.9681704640388489},\n",
       "  {'cas_cell_index': 1524051277, 'distance': 0.9681657552719116},\n",
       "  {'cas_cell_index': 1524044057, 'distance': 0.9680672287940979},\n",
       "  {'cas_cell_index': 1524033271, 'distance': 0.968036413192749},\n",
       "  {'cas_cell_index': 1524046074, 'distance': 0.9680243134498596},\n",
       "  {'cas_cell_index': 1524022600, 'distance': 0.9680073261260986},\n",
       "  {'cas_cell_index': 1524011002, 'distance': 0.9679936170578003},\n",
       "  {'cas_cell_index': 1524037181, 'distance': 0.9679210782051086},\n",
       "  {'cas_cell_index': 1524023650, 'distance': 0.9679101705551147},\n",
       "  {'cas_cell_index': 1524027089, 'distance': 0.9678352475166321},\n",
       "  {'cas_cell_index': 330047585, 'distance': 0.9678083658218384},\n",
       "  {'cas_cell_index': 1524051223, 'distance': 0.9677410125732422},\n",
       "  {'cas_cell_index': 1524066621, 'distance': 0.9677408933639526},\n",
       "  {'cas_cell_index': 1524000014, 'distance': 0.9677126407623291},\n",
       "  {'cas_cell_index': 1384043917, 'distance': 0.9676645994186401},\n",
       "  {'cas_cell_index': 1524027059, 'distance': 0.9676603078842163},\n",
       "  {'cas_cell_index': 1524041800, 'distance': 0.9676417708396912},\n",
       "  {'cas_cell_index': 1524012319, 'distance': 0.9676296710968018},\n",
       "  {'cas_cell_index': 1524046481, 'distance': 0.9676276445388794},\n",
       "  {'cas_cell_index': 1524015561, 'distance': 0.9676204919815063},\n",
       "  {'cas_cell_index': 1524011508, 'distance': 0.9675768613815308},\n",
       "  {'cas_cell_index': 780021369, 'distance': 0.9675160050392151},\n",
       "  {'cas_cell_index': 1524057247, 'distance': 0.9674623012542725},\n",
       "  {'cas_cell_index': 1384044292, 'distance': 0.9674584865570068},\n",
       "  {'cas_cell_index': 1524055504, 'distance': 0.967418372631073},\n",
       "  {'cas_cell_index': 1524038061, 'distance': 0.9674148559570312},\n",
       "  {'cas_cell_index': 1524006397, 'distance': 0.9673969745635986},\n",
       "  {'cas_cell_index': 1524045267, 'distance': 0.9673606753349304},\n",
       "  {'cas_cell_index': 1524044633, 'distance': 0.9673416614532471},\n",
       "  {'cas_cell_index': 1524055691, 'distance': 0.9673231244087219},\n",
       "  {'cas_cell_index': 1524057653, 'distance': 0.9672868847846985},\n",
       "  {'cas_cell_index': 1524006289, 'distance': 0.9672375321388245},\n",
       "  {'cas_cell_index': 1524029889, 'distance': 0.9672235250473022},\n",
       "  {'cas_cell_index': 330041380, 'distance': 0.967197060585022},\n",
       "  {'cas_cell_index': 1524037036, 'distance': 0.9671797752380371},\n",
       "  {'cas_cell_index': 1524027153, 'distance': 0.9671260118484497},\n",
       "  {'cas_cell_index': 330044277, 'distance': 0.9670792818069458},\n",
       "  {'cas_cell_index': 1524043849, 'distance': 0.967059850692749},\n",
       "  {'cas_cell_index': 1524055867, 'distance': 0.9670505523681641},\n",
       "  {'cas_cell_index': 1524037831, 'distance': 0.9670283198356628},\n",
       "  {'cas_cell_index': 1524053889, 'distance': 0.9670112729072571}]}"
      ]
     },
     "execution_count": 16,
     "metadata": {},
     "output_type": "execute_result"
    }
   ],
   "source": [
    "nearest_neighbors = data[\"cas_search_output\"]\n",
    "nearest_neighbors[1]"
   ]
  },
  {
   "cell_type": "code",
   "execution_count": 18,
   "id": "83fb7013",
   "metadata": {},
   "outputs": [
    {
     "data": {
      "text/plain": [
       "10246"
      ]
     },
     "execution_count": 18,
     "metadata": {},
     "output_type": "execute_result"
    }
   ],
   "source": [
    "len(nearest_neighbors)"
   ]
  },
  {
   "cell_type": "markdown",
   "id": "b1a287e3-c9ad-49eb-949f-96d7c08fb0b3",
   "metadata": {},
   "source": [
    "## Cell Metadata\n",
    "\n",
    "Here is what metdata we store in our database. You can match the cell metadata by `cas_cell_index` and use it for neighborhood context composition. You would need `cell_type` and `cell_type_ontology_term_id` for this task and can ignore other features variables."
   ]
  },
  {
   "cell_type": "code",
   "execution_count": 19,
   "id": "78a557ab-8119-43b8-9ddd-b7b0acd1bcdf",
   "metadata": {
    "tags": []
   },
   "outputs": [
    {
     "data": {
      "text/plain": [
       "{'cas_cell_index': 1524109823,\n",
       " 'cell_type': 'central memory CD8-positive, alpha-beta T cell',\n",
       " 'assay': \"10x 3' v3\",\n",
       " 'disease': 'normal',\n",
       " 'suspension_type': 'cell',\n",
       " 'tissue': 'blood',\n",
       " 'cell_type_ontology_term_id': 'CL:0000907',\n",
       " 'assay_ontology_term_id': 'EFO:0009922',\n",
       " 'disease_ontology_term_id': 'PATO:0000461',\n",
       " 'tissue_ontology_term_id': 'UBERON:0000178'}"
      ]
     },
     "execution_count": 19,
     "metadata": {},
     "output_type": "execute_result"
    }
   ],
   "source": [
    "data[\"cas_search_all_neighbors_info\"][0]"
   ]
  },
  {
   "cell_type": "markdown",
   "id": "b9d4ff80",
   "metadata": {},
   "source": [
    "You might potentially need owlready2 to explore the cell ontology graph"
   ]
  },
  {
   "cell_type": "code",
   "execution_count": 20,
   "id": "a3a717f6",
   "metadata": {},
   "outputs": [],
   "source": [
    "# Uncomment if needed\n",
    "#!pip install owlready2"
   ]
  },
  {
   "cell_type": "markdown",
   "id": "89166021",
   "metadata": {},
   "source": [
    "Here is the Cell Ontology OWL file"
   ]
  },
  {
   "cell_type": "code",
   "execution_count": 21,
   "id": "567c28ce",
   "metadata": {},
   "outputs": [],
   "source": [
    "cl_owl_path = 'https://github.com/obophenotype/cell-ontology/raw/v2022-09-15/cl.owl'"
   ]
  }
 ],
 "metadata": {
  "kernelspec": {
   "display_name": "Python 3 (ipykernel)",
   "language": "python",
   "name": "python3"
  },
  "language_info": {
   "codemirror_mode": {
    "name": "ipython",
    "version": 3
   },
   "file_extension": ".py",
   "mimetype": "text/x-python",
   "name": "python",
   "nbconvert_exporter": "python",
   "pygments_lexer": "ipython3",
   "version": "3.11.7"
  }
 },
 "nbformat": 4,
 "nbformat_minor": 5
}
